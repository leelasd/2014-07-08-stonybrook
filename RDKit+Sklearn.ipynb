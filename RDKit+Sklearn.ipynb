{
  "nbformat": 4,
  "nbformat_minor": 0,
  "metadata": {
    "colab": {
      "name": "RDKit+Sklearn.ipynb",
      "provenance": [],
      "machine_shape": "hm",
      "authorship_tag": "ABX9TyNYt2aVoRvXCzAdy1GSiIFq",
      "include_colab_link": true
    },
    "kernelspec": {
      "name": "python3",
      "display_name": "Python 3"
    }
  },
  "cells": [
    {
      "cell_type": "markdown",
      "metadata": {
        "id": "view-in-github",
        "colab_type": "text"
      },
      "source": [
        "<a href=\"https://colab.research.google.com/github/leelasd/2014-07-08-stonybrook/blob/gh-pages/RDKit%2BSklearn.ipynb\" target=\"_parent\"><img src=\"https://colab.research.google.com/assets/colab-badge.svg\" alt=\"Open In Colab\"/></a>"
      ]
    },
    {
      "cell_type": "code",
      "metadata": {
        "id": "1FVkRzg-pH7w",
        "colab_type": "code",
        "colab": {
          "base_uri": "https://localhost:8080/",
          "height": 1000
        },
        "outputId": "090e928e-c0bc-4de0-8beb-c24b37c176fc"
      },
      "source": [
        "!wget -c https://repo.continuum.io/miniconda/Miniconda3-latest-Linux-x86_64.sh\n",
        "!chmod +x Miniconda3-latest-Linux-x86_64.sh\n",
        "!time bash ./Miniconda3-latest-Linux-x86_64.sh -b -f -p /usr/local\n",
        "!time conda install -q -y -c conda-forge rdkit\n",
        "!pip install py3Dmol # 3D Molecular Visualizer\n",
        "import sys\n",
        "import os\n",
        "sys.path.append('/usr/local/lib/python3.7/site-packages/')"
      ],
      "execution_count": 1,
      "outputs": [
        {
          "output_type": "stream",
          "text": [
            "--2020-01-26 19:18:45--  https://repo.continuum.io/miniconda/Miniconda3-latest-Linux-x86_64.sh\n",
            "Resolving repo.continuum.io (repo.continuum.io)... 104.18.200.79, 104.18.201.79, 2606:4700::6812:c84f, ...\n",
            "Connecting to repo.continuum.io (repo.continuum.io)|104.18.200.79|:443... connected.\n",
            "HTTP request sent, awaiting response... 416 Requested Range Not Satisfiable\n",
            "\n",
            "    The file is already fully retrieved; nothing to do.\n",
            "\n",
            "PREFIX=/usr/local\n",
            "Unpacking payload ...\n",
            "Collecting package metadata (current_repodata.json): - \b\b\\ \b\b| \b\b/ \b\b- \b\b\\ \b\bdone\n",
            "Solving environment: / \b\b- \b\b\\ \b\b| \b\b/ \b\b- \b\b\\ \b\b| \b\b/ \b\b- \b\b\\ \b\b| \b\b/ \b\b- \b\b\\ \b\b| \b\bdone\n",
            "\n",
            "## Package Plan ##\n",
            "\n",
            "  environment location: /usr/local\n",
            "\n",
            "  added / updated specs:\n",
            "    - _libgcc_mutex==0.1=main\n",
            "    - asn1crypto==1.2.0=py37_0\n",
            "    - ca-certificates==2019.10.16=0\n",
            "    - certifi==2019.9.11=py37_0\n",
            "    - cffi==1.13.0=py37h2e261b9_0\n",
            "    - chardet==3.0.4=py37_1003\n",
            "    - conda-package-handling==1.6.0=py37h7b6447c_0\n",
            "    - conda==4.7.12=py37_0\n",
            "    - cryptography==2.8=py37h1ba5d50_0\n",
            "    - idna==2.8=py37_0\n",
            "    - libedit==3.1.20181209=hc058e9b_0\n",
            "    - libffi==3.2.1=hd88cf55_4\n",
            "    - libgcc-ng==9.1.0=hdf63c60_0\n",
            "    - libstdcxx-ng==9.1.0=hdf63c60_0\n",
            "    - ncurses==6.1=he6710b0_1\n",
            "    - openssl==1.1.1d=h7b6447c_3\n",
            "    - pip==19.3.1=py37_0\n",
            "    - pycosat==0.6.3=py37h14c3975_0\n",
            "    - pycparser==2.19=py37_0\n",
            "    - pyopenssl==19.0.0=py37_0\n",
            "    - pysocks==1.7.1=py37_0\n",
            "    - python==3.7.4=h265db76_1\n",
            "    - readline==7.0=h7b6447c_5\n",
            "    - requests==2.22.0=py37_0\n",
            "    - ruamel_yaml==0.15.46=py37h14c3975_0\n",
            "    - setuptools==41.4.0=py37_0\n",
            "    - six==1.12.0=py37_0\n",
            "    - sqlite==3.30.0=h7b6447c_0\n",
            "    - tk==8.6.8=hbc83047_0\n",
            "    - tqdm==4.36.1=py_0\n",
            "    - urllib3==1.24.2=py37_0\n",
            "    - wheel==0.33.6=py37_0\n",
            "    - xz==5.2.4=h14c3975_4\n",
            "    - yaml==0.1.7=had09818_2\n",
            "    - zlib==1.2.11=h7b6447c_3\n",
            "\n",
            "\n",
            "The following packages will be downloaded:\n",
            "\n",
            "    package                    |            build\n",
            "    ---------------------------|-----------------\n",
            "    certifi-2019.9.11          |           py37_0         151 KB\n",
            "    openssl-1.1.1d             |       h7b6447c_3         2.5 MB\n",
            "    ------------------------------------------------------------\n",
            "                                           Total:         2.6 MB\n",
            "\n",
            "The following packages will be UPDATED:\n",
            "\n",
            "  openssl            conda-forge::openssl-1.1.1d-h516909a_0 --> pkgs/main::openssl-1.1.1d-h7b6447c_3\n",
            "\n",
            "The following packages will be SUPERSEDED by a higher-priority channel:\n",
            "\n",
            "  ca-certificates    conda-forge::ca-certificates-2019.11.~ --> pkgs/main::ca-certificates-2019.10.16-0\n",
            "  certifi            conda-forge::certifi-2019.11.28-py37_0 --> pkgs/main::certifi-2019.9.11-py37_0\n",
            "  conda                     conda-forge::conda-4.8.2-py37_0 --> pkgs/main::conda-4.7.12-py37_0\n",
            "\n",
            "\n",
            "\n",
            "Downloading and Extracting Packages\n",
            "openssl-1.1.1d       | 2.5 MB    | :   0% 0/1 [00:00<?, ?it/s]\n",
            "certifi-2019.9.11    | 151 KB    | :   0% 0/1 [00:00<?, ?it/s]\n",
            "\n",
            "RuntimeError('EnforceUnusedAdapter called with url https://repo.anaconda.com/pkgs/main/linux-64/openssl-1.1.1d-h7b6447c_3.conda\\nThis command is using a remote connection in offline mode.\\n')\n",
            "RuntimeError('EnforceUnusedAdapter called with url https://repo.anaconda.com/pkgs/main/linux-64/certifi-2019.9.11-py37_0.conda\\nThis command is using a remote connection in offline mode.\\n')\n",
            "\n",
            "\n",
            "real\t0m21.267s\n",
            "user\t0m37.015s\n",
            "sys\t0m5.834s\n",
            "Collecting package metadata (current_repodata.json): ...working... done\n",
            "Solving environment: ...working... done\n",
            "\n",
            "# All requested packages already installed.\n",
            "\n",
            "\n",
            "real\t0m10.610s\n",
            "user\t0m9.777s\n",
            "sys\t0m0.805s\n",
            "Requirement already satisfied: py3Dmol in /usr/local/lib/python3.7/site-packages (0.8.0)\n",
            "Requirement already satisfied: idisplay in /usr/local/lib/python3.7/site-packages (from py3Dmol) (0.1.2)\n",
            "Requirement already satisfied: jupyter in /usr/local/lib/python3.7/site-packages (from py3Dmol) (1.0.0)\n",
            "Requirement already satisfied: ipython>=1.0 in /usr/local/lib/python3.7/site-packages (from idisplay->py3Dmol) (7.11.1)\n",
            "Requirement already satisfied: notebook in /usr/local/lib/python3.7/site-packages (from jupyter->py3Dmol) (6.0.3)\n",
            "Requirement already satisfied: jupyter-console in /usr/local/lib/python3.7/site-packages (from jupyter->py3Dmol) (6.1.0)\n",
            "Requirement already satisfied: ipywidgets in /usr/local/lib/python3.7/site-packages (from jupyter->py3Dmol) (7.5.1)\n",
            "Requirement already satisfied: qtconsole in /usr/local/lib/python3.7/site-packages (from jupyter->py3Dmol) (4.6.0)\n",
            "Requirement already satisfied: nbconvert in /usr/local/lib/python3.7/site-packages (from jupyter->py3Dmol) (5.6.1)\n",
            "Requirement already satisfied: ipykernel in /usr/local/lib/python3.7/site-packages (from jupyter->py3Dmol) (5.1.3)\n",
            "Requirement already satisfied: traitlets>=4.2 in /usr/local/lib/python3.7/site-packages (from ipython>=1.0->idisplay->py3Dmol) (4.3.3)\n",
            "Requirement already satisfied: backcall in /usr/local/lib/python3.7/site-packages (from ipython>=1.0->idisplay->py3Dmol) (0.1.0)\n",
            "Requirement already satisfied: jedi>=0.10 in /usr/local/lib/python3.7/site-packages (from ipython>=1.0->idisplay->py3Dmol) (0.16.0)\n",
            "Requirement already satisfied: decorator in /usr/local/lib/python3.7/site-packages (from ipython>=1.0->idisplay->py3Dmol) (4.4.1)\n",
            "Requirement already satisfied: setuptools>=18.5 in /usr/local/lib/python3.7/site-packages (from ipython>=1.0->idisplay->py3Dmol) (41.4.0)\n",
            "Requirement already satisfied: pexpect; sys_platform != \"win32\" in /usr/local/lib/python3.7/site-packages (from ipython>=1.0->idisplay->py3Dmol) (4.8.0)\n",
            "Requirement already satisfied: pygments in /usr/local/lib/python3.7/site-packages (from ipython>=1.0->idisplay->py3Dmol) (2.5.2)\n",
            "Requirement already satisfied: prompt-toolkit!=3.0.0,!=3.0.1,<3.1.0,>=2.0.0 in /usr/local/lib/python3.7/site-packages (from ipython>=1.0->idisplay->py3Dmol) (3.0.2)\n",
            "Requirement already satisfied: pickleshare in /usr/local/lib/python3.7/site-packages (from ipython>=1.0->idisplay->py3Dmol) (0.7.5)\n",
            "Requirement already satisfied: ipython-genutils in /usr/local/lib/python3.7/site-packages (from notebook->jupyter->py3Dmol) (0.2.0)\n",
            "Requirement already satisfied: tornado>=5.0 in /usr/local/lib/python3.7/site-packages (from notebook->jupyter->py3Dmol) (6.0.3)\n",
            "Requirement already satisfied: jupyter-client>=5.3.4 in /usr/local/lib/python3.7/site-packages (from notebook->jupyter->py3Dmol) (5.3.4)\n",
            "Requirement already satisfied: jupyter-core>=4.6.1 in /usr/local/lib/python3.7/site-packages (from notebook->jupyter->py3Dmol) (4.6.1)\n",
            "Requirement already satisfied: terminado>=0.8.1 in /usr/local/lib/python3.7/site-packages (from notebook->jupyter->py3Dmol) (0.8.3)\n",
            "Requirement already satisfied: nbformat in /usr/local/lib/python3.7/site-packages (from notebook->jupyter->py3Dmol) (5.0.4)\n",
            "Requirement already satisfied: Send2Trash in /usr/local/lib/python3.7/site-packages (from notebook->jupyter->py3Dmol) (1.5.0)\n",
            "Requirement already satisfied: jinja2 in /usr/local/lib/python3.7/site-packages (from notebook->jupyter->py3Dmol) (2.10.3)\n",
            "Requirement already satisfied: pyzmq>=17 in /usr/local/lib/python3.7/site-packages (from notebook->jupyter->py3Dmol) (18.1.1)\n",
            "Requirement already satisfied: prometheus-client in /usr/local/lib/python3.7/site-packages (from notebook->jupyter->py3Dmol) (0.7.1)\n",
            "Requirement already satisfied: widgetsnbextension~=3.5.0 in /usr/local/lib/python3.7/site-packages (from ipywidgets->jupyter->py3Dmol) (3.5.1)\n",
            "Requirement already satisfied: bleach in /usr/local/lib/python3.7/site-packages (from nbconvert->jupyter->py3Dmol) (3.1.0)\n",
            "Requirement already satisfied: pandocfilters>=1.4.1 in /usr/local/lib/python3.7/site-packages (from nbconvert->jupyter->py3Dmol) (1.4.2)\n",
            "Requirement already satisfied: testpath in /usr/local/lib/python3.7/site-packages (from nbconvert->jupyter->py3Dmol) (0.4.4)\n",
            "Requirement already satisfied: mistune<2,>=0.8.1 in /usr/local/lib/python3.7/site-packages (from nbconvert->jupyter->py3Dmol) (0.8.4)\n",
            "Requirement already satisfied: entrypoints>=0.2.2 in /usr/local/lib/python3.7/site-packages (from nbconvert->jupyter->py3Dmol) (0.3)\n",
            "Requirement already satisfied: defusedxml in /usr/local/lib/python3.7/site-packages (from nbconvert->jupyter->py3Dmol) (0.6.0)\n",
            "Requirement already satisfied: six in /usr/local/lib/python3.7/site-packages (from traitlets>=4.2->ipython>=1.0->idisplay->py3Dmol) (1.12.0)\n",
            "Requirement already satisfied: parso>=0.5.2 in /usr/local/lib/python3.7/site-packages (from jedi>=0.10->ipython>=1.0->idisplay->py3Dmol) (0.5.2)\n",
            "Requirement already satisfied: ptyprocess>=0.5 in /usr/local/lib/python3.7/site-packages (from pexpect; sys_platform != \"win32\"->ipython>=1.0->idisplay->py3Dmol) (0.6.0)\n",
            "Requirement already satisfied: wcwidth in /usr/local/lib/python3.7/site-packages (from prompt-toolkit!=3.0.0,!=3.0.1,<3.1.0,>=2.0.0->ipython>=1.0->idisplay->py3Dmol) (0.1.8)\n",
            "Requirement already satisfied: python-dateutil>=2.1 in /usr/local/lib/python3.7/site-packages (from jupyter-client>=5.3.4->notebook->jupyter->py3Dmol) (2.8.1)\n",
            "Requirement already satisfied: jsonschema!=2.5.0,>=2.4 in /usr/local/lib/python3.7/site-packages (from nbformat->notebook->jupyter->py3Dmol) (3.2.0)\n",
            "Requirement already satisfied: MarkupSafe>=0.23 in /usr/local/lib/python3.7/site-packages (from jinja2->notebook->jupyter->py3Dmol) (1.1.1)\n",
            "Requirement already satisfied: webencodings in /usr/local/lib/python3.7/site-packages (from bleach->nbconvert->jupyter->py3Dmol) (0.5.1)\n",
            "Requirement already satisfied: importlib-metadata; python_version < \"3.8\" in /usr/local/lib/python3.7/site-packages (from jsonschema!=2.5.0,>=2.4->nbformat->notebook->jupyter->py3Dmol) (1.4.0)\n",
            "Requirement already satisfied: attrs>=17.4.0 in /usr/local/lib/python3.7/site-packages (from jsonschema!=2.5.0,>=2.4->nbformat->notebook->jupyter->py3Dmol) (19.3.0)\n",
            "Requirement already satisfied: pyrsistent>=0.14.0 in /usr/local/lib/python3.7/site-packages (from jsonschema!=2.5.0,>=2.4->nbformat->notebook->jupyter->py3Dmol) (0.15.7)\n",
            "Requirement already satisfied: zipp>=0.5 in /usr/local/lib/python3.7/site-packages (from importlib-metadata; python_version < \"3.8\"->jsonschema!=2.5.0,>=2.4->nbformat->notebook->jupyter->py3Dmol) (2.1.0)\n"
          ],
          "name": "stdout"
        }
      ]
    },
    {
      "cell_type": "markdown",
      "metadata": {
        "id": "EntzNPx4qsaf",
        "colab_type": "text"
      },
      "source": [
        "# 1. Fetch Data For MAP kinase p38 alpha (Kinase) from DUDE"
      ]
    },
    {
      "cell_type": "code",
      "metadata": {
        "id": "1F0ylTknpMDu",
        "colab_type": "code",
        "colab": {
          "base_uri": "https://localhost:8080/",
          "height": 208
        },
        "outputId": "48d21f9f-90d3-4026-d1ed-479e44a92ad6"
      },
      "source": [
        "!wget http://dude.docking.org/targets/mk14/mk14.tar.gz"
      ],
      "execution_count": 2,
      "outputs": [
        {
          "output_type": "stream",
          "text": [
            "--2020-01-26 19:19:22--  http://dude.docking.org/targets/mk14/mk14.tar.gz\n",
            "Resolving dude.docking.org (dude.docking.org)... 169.230.26.68\n",
            "Connecting to dude.docking.org (dude.docking.org)|169.230.26.68|:80... connected.\n",
            "HTTP request sent, awaiting response... 200 OK\n",
            "Length: unspecified [application/x-gzip]\n",
            "Saving to: ‘mk14.tar.gz.2’\n",
            "\n",
            "mk14.tar.gz.2           [     <=>            ]   2.33M   105KB/s    in 23s     \n",
            "\n",
            "2020-01-26 19:19:45 (103 KB/s) - ‘mk14.tar.gz.2’ saved [2442959]\n",
            "\n"
          ],
          "name": "stdout"
        }
      ]
    },
    {
      "cell_type": "code",
      "metadata": {
        "id": "gWfCkyB9qWJP",
        "colab_type": "code",
        "colab": {
          "base_uri": "https://localhost:8080/",
          "height": 121
        },
        "outputId": "059a19b2-22cf-4f28-b5f0-f1a7bf827ba9"
      },
      "source": [
        "! tar -zxvf mk14.tar.gz"
      ],
      "execution_count": 3,
      "outputs": [
        {
          "output_type": "stream",
          "text": [
            "mk14/receptor.pdb\n",
            "mk14/crystal_ligand.mol2\n",
            "mk14/actives_final.ism\n",
            "mk14/actives_final.mol2.gz\n",
            "mk14/actives_final.sdf.gz\n",
            "mk14/decoys_final.ism\n"
          ],
          "name": "stdout"
        }
      ]
    },
    {
      "cell_type": "code",
      "metadata": {
        "id": "8fGT_1VRqn-l",
        "colab_type": "code",
        "colab": {}
      },
      "source": [
        "import gzip"
      ],
      "execution_count": 0,
      "outputs": []
    },
    {
      "cell_type": "code",
      "metadata": {
        "id": "6CNb9Bq_q3sF",
        "colab_type": "code",
        "colab": {}
      },
      "source": [
        "from rdkit import Chem\n",
        "from rdkit.Chem import AllChem, PandasTools"
      ],
      "execution_count": 0,
      "outputs": []
    },
    {
      "cell_type": "code",
      "metadata": {
        "id": "hQN77X-jq-1l",
        "colab_type": "code",
        "colab": {}
      },
      "source": [
        "df_active = PandasTools.LoadSDF(gzip.open('mk14/actives_final.sdf.gz'))"
      ],
      "execution_count": 0,
      "outputs": []
    },
    {
      "cell_type": "code",
      "metadata": {
        "id": "CMH0J7YArOqV",
        "colab_type": "code",
        "colab": {}
      },
      "source": [
        "import pandas as pd"
      ],
      "execution_count": 0,
      "outputs": []
    },
    {
      "cell_type": "code",
      "metadata": {
        "id": "4QeIIhz1rdn4",
        "colab_type": "code",
        "colab": {}
      },
      "source": [
        "df_decoys = pd.read_csv('mk14/decoys_final.ism',header=None,delim_whitespace=True)"
      ],
      "execution_count": 0,
      "outputs": []
    },
    {
      "cell_type": "code",
      "metadata": {
        "id": "5qk0GnmdrjDd",
        "colab_type": "code",
        "colab": {}
      },
      "source": [
        "df_decoys.columns = ['smiles','ID']\n",
        "df_decoys['ROMol'] = [Chem.MolFromSmiles(smi) for smi in df_decoys.smiles]\n",
        "df_decoys['label'] = [0 for i in df_decoys.index]"
      ],
      "execution_count": 0,
      "outputs": []
    },
    {
      "cell_type": "code",
      "metadata": {
        "id": "fdnrNtWtrj1l",
        "colab_type": "code",
        "colab": {}
      },
      "source": [
        "df_active['smiles'] = [Chem.MolToSmiles(smi) for smi in df_active.ROMol]\n",
        "df_active['label'] = [1 for i in df_active.index]"
      ],
      "execution_count": 0,
      "outputs": []
    },
    {
      "cell_type": "code",
      "metadata": {
        "id": "yD6QgCxlrsOj",
        "colab_type": "code",
        "colab": {}
      },
      "source": [
        "df_active = df_active[df_decoys.columns]"
      ],
      "execution_count": 0,
      "outputs": []
    },
    {
      "cell_type": "code",
      "metadata": {
        "id": "F8KQGVhVsRIr",
        "colab_type": "code",
        "colab": {}
      },
      "source": [
        "df_all = pd.concat([df_active,df_decoys])"
      ],
      "execution_count": 0,
      "outputs": []
    },
    {
      "cell_type": "code",
      "metadata": {
        "id": "qA9D6bDAsVH4",
        "colab_type": "code",
        "colab": {}
      },
      "source": [
        "import matplotlib.pyplot as plt"
      ],
      "execution_count": 0,
      "outputs": []
    },
    {
      "cell_type": "code",
      "metadata": {
        "id": "ESQ6Zmoss7Od",
        "colab_type": "code",
        "colab": {
          "base_uri": "https://localhost:8080/",
          "height": 283
        },
        "outputId": "0948da4c-065b-4f8e-ab3e-4c58a25d7487"
      },
      "source": [
        "df_all['label'].plot(kind='hist')"
      ],
      "execution_count": 14,
      "outputs": [
        {
          "output_type": "execute_result",
          "data": {
            "text/plain": [
              "<matplotlib.axes._subplots.AxesSubplot at 0x7f30cf8eddd8>"
            ]
          },
          "metadata": {
            "tags": []
          },
          "execution_count": 14
        },
        {
          "output_type": "display_data",
          "data": {
            "image/png": "[encoded data removed]",
            "text/plain": [
              "<Figure size 432x288 with 1 Axes>"
            ]
          },
          "metadata": {
            "tags": []
          }
        }
      ]
    },
    {
      "cell_type": "markdown",
      "metadata": {
        "id": "1nwYRHOstF5O",
        "colab_type": "text"
      },
      "source": [
        "- 915 Actives & 35850 decoys"
      ]
    },
    {
      "cell_type": "markdown",
      "metadata": {
        "id": "1ZaKv8mYtWbn",
        "colab_type": "text"
      },
      "source": [
        "## 2. Balancing dataset  "
      ]
    },
    {
      "cell_type": "markdown",
      "metadata": {
        "id": "zYH7GWMqwjWX",
        "colab_type": "text"
      },
      "source": [
        "- To get a well behaved model one needs a balenced dataset, but all real world datasets have sparse data for interesting/importance events. \n",
        "- linear classifiers dont do well for outliers, this best way is to use ensemble classifiers with K-fold validation\n",
        "- Using different under sampling/ over sampling methods as described in [this page](https://imbalanced-learn.org/stable/auto_examples/applications/plot_multi_class_under_sampling.html#sphx-glr-auto-examples-applications-plot-multi-class-under-sampling-py)"
      ]
    },
    {
      "cell_type": "code",
      "metadata": {
        "id": "_ijrYo90tNYI",
        "colab_type": "code",
        "colab": {}
      },
      "source": [
        "#!pip install  -U imbalanced-learn"
      ],
      "execution_count": 0,
      "outputs": []
    },
    {
      "cell_type": "markdown",
      "metadata": {
        "id": "Tkt_vhuwx2Vk",
        "colab_type": "text"
      },
      "source": [
        "### Undersampling Strategy: Cluster Decoys (K-Medioids) such that there are same number of actives "
      ]
    },
    {
      "cell_type": "markdown",
      "metadata": {
        "id": "j5P44B_eyWNy",
        "colab_type": "text"
      },
      "source": [
        "#### Cluster Data with K-Means & Morgan Fingerprints\n",
        "\n"
      ]
    },
    {
      "cell_type": "code",
      "metadata": {
        "id": "_HcFUk2WxjhQ",
        "colab_type": "code",
        "colab": {}
      },
      "source": [
        "import numpy as np\n",
        "from rdkit.Chem import AllChem, DataStructs, rdMolDescriptors"
      ],
      "execution_count": 0,
      "outputs": []
    },
    {
      "cell_type": "code",
      "metadata": {
        "id": "rZfw_Qw3yejD",
        "colab_type": "code",
        "colab": {}
      },
      "source": [
        "def molsfeaturizer(mols):\n",
        "    fps = []\n",
        "    for mol in mols:\n",
        "        arr = np.zeros((0,))\n",
        "        fp = AllChem.GetMorganFingerprintAsBitVect(mol, 2)\n",
        "        DataStructs.ConvertToNumpyArray(fp, arr)\n",
        "        fps.append(arr)\n",
        "    fps = np.array(fps, dtype = np.float32)\n",
        "    return fps"
      ],
      "execution_count": 0,
      "outputs": []
    },
    {
      "cell_type": "code",
      "metadata": {
        "id": "O1rrlug4ygm_",
        "colab_type": "code",
        "colab": {}
      },
      "source": [
        "fp_decoy = molsfeaturizer(list(df_decoys.ROMol))"
      ],
      "execution_count": 0,
      "outputs": []
    },
    {
      "cell_type": "code",
      "metadata": {
        "id": "FiJoMMPSyqMp",
        "colab_type": "code",
        "colab": {}
      },
      "source": [
        "from sklearn.cluster import MiniBatchKMeans, KMeans"
      ],
      "execution_count": 0,
      "outputs": []
    },
    {
      "cell_type": "code",
      "metadata": {
        "id": "IZWJ6ozCy3Qr",
        "colab_type": "code",
        "colab": {}
      },
      "source": [
        "kmeans = MiniBatchKMeans(n_clusters=df_active.ID.count())"
      ],
      "execution_count": 0,
      "outputs": []
    },
    {
      "cell_type": "code",
      "metadata": {
        "id": "EiMDHrUky8O2",
        "colab_type": "code",
        "colab": {
          "base_uri": "https://localhost:8080/",
          "height": 191
        },
        "outputId": "c5cbb728-89e1-4e1d-913a-241e231541b7"
      },
      "source": [
        "kmeans.fit(fp_decoy)"
      ],
      "execution_count": 21,
      "outputs": [
        {
          "output_type": "stream",
          "text": [
            "/usr/local/lib/python3.6/dist-packages/sklearn/cluster/_kmeans.py:1576: RuntimeWarning: init_size=300 should be larger than k=915. Setting it to 3*k\n",
            "  init_size=init_size)\n",
            "/usr/local/lib/python3.6/dist-packages/sklearn/cluster/_kmeans.py:1576: RuntimeWarning: init_size=300 should be larger than k=915. Setting it to 3*k\n",
            "  init_size=init_size)\n",
            "/usr/local/lib/python3.6/dist-packages/sklearn/cluster/_kmeans.py:1576: RuntimeWarning: init_size=300 should be larger than k=915. Setting it to 3*k\n",
            "  init_size=init_size)\n"
          ],
          "name": "stderr"
        },
        {
          "output_type": "execute_result",
          "data": {
            "text/plain": [
              "MiniBatchKMeans(batch_size=100, compute_labels=True, init='k-means++',\n",
              "                init_size=None, max_iter=100, max_no_improvement=10,\n",
              "                n_clusters=915, n_init=3, random_state=None,\n",
              "                reassignment_ratio=0.01, tol=0.0, verbose=0)"
            ]
          },
          "metadata": {
            "tags": []
          },
          "execution_count": 21
        }
      ]
    },
    {
      "cell_type": "code",
      "metadata": {
        "id": "5nzA55oDzGg8",
        "colab_type": "code",
        "colab": {}
      },
      "source": [
        "label_kmeans= kmeans.predict(fp_decoy)"
      ],
      "execution_count": 0,
      "outputs": []
    },
    {
      "cell_type": "code",
      "metadata": {
        "id": "jY6_o_HM0s7O",
        "colab_type": "code",
        "colab": {}
      },
      "source": [
        "df_decoys['Kmeans_id'] = label_kmeans"
      ],
      "execution_count": 0,
      "outputs": []
    },
    {
      "cell_type": "markdown",
      "metadata": {
        "id": "3OyFxIAz1Yfn",
        "colab_type": "text"
      },
      "source": [
        "#### Agglormerative Clustering with Morgan Fingerprints, Tanimoto Similarity\n"
      ]
    },
    {
      "cell_type": "markdown",
      "metadata": {
        "id": "qIone47482D_",
        "colab_type": "text"
      },
      "source": [
        "### Use the Clustered Actives and Decoys for training models"
      ]
    },
    {
      "cell_type": "code",
      "metadata": {
        "id": "n-xz6wm78Y9t",
        "colab_type": "code",
        "colab": {
          "base_uri": "https://localhost:8080/",
          "height": 1000
        },
        "outputId": "035df673-851f-4d33-fd21-e2acd63c38fd"
      },
      "source": [
        "df_decoys.sample(frac=1).reset_index(drop=True).drop_duplicates('Kmeans_id')[['smiles','ID','ROMol','label']]"
      ],
      "execution_count": 24,
      "outputs": [
        {
          "output_type": "execute_result",
          "data": {
            "text/html": [
              "<div>\n",
              "<style scoped>\n",
              "    .dataframe tbody tr th:only-of-type {\n",
              "        vertical-align: middle;\n",
              "    }\n",
              "\n",
              "    .dataframe tbody tr th {\n",
              "        vertical-align: top;\n",
              "    }\n",
              "\n",
              "    .dataframe thead th {\n",
              "        text-align: right;\n",
              "    }\n",
              "</style>\n",
              "<table border=\"1\" class=\"dataframe\">\n",
              "  <thead>\n",
              "    <tr style=\"text-align: right;\">\n",
              "      <th></th>\n",
              "      <th>smiles</th>\n",
              "      <th>ID</th>\n",
              "      <th>ROMol</th>\n",
              "      <th>label</th>\n",
              "    </tr>\n",
              "  </thead>\n",
              "  <tbody>\n",
              "    <tr>\n",
              "      <th>0</th>\n",
              "      <td>C[C@@H]1C[C@@]2(CC(C1)(C)C)C(=O)N(C(=O)N2)CC(=...</td>\n",
              "      <td>C60241483</td>\n",
              "      <td><img data-content=\"rdkit/molecule\" src=\"data:image/png;base64,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\" alt=\"Mol\"/></td>\n",
              "      <td>0</td>\n",
              "    </tr>\n",
              "    <tr>\n",
              "      <th>1</th>\n",
              "      <td>Cc1ccc2c(c1)CCCN2C(=O)C(=O)NC3CCC(CC3)C(=O)NC</td>\n",
              "      <td>C63432455</td>\n",
              "      <td><img data-content=\"rdkit/molecule\" src=\"data:image/png;base64,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\" alt=\"Mol\"/></td>\n",
              "      <td>0</td>\n",
              "    </tr>\n",
              "    <tr>\n",
              "      <th>2</th>\n",
              "      <td>Cc1ccccc1S(=O)(=O)N[C@@H]2Cc3cc(ccc3OC2)Br</td>\n",
              "      <td>C65330373</td>\n",
              "      <td><img data-content=\"rdkit/molecule\" src=\"data:image/png;base64,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\" alt=\"Mol\"/></td>\n",
              "      <td>0</td>\n",
              "    </tr>\n",
              "    <tr>\n",
              "      <th>3</th>\n",
              "      <td>CC(C)C(=O)Nc1ccc2c(c1)[C@@H]3C=CC[C@H]3[C@@H](...</td>\n",
              "      <td>C14467923</td>\n",
              "      <td><img data-content=\"rdkit/molecule\" src=\"data:image/png;base64,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\" alt=\"Mol\"/></td>\n",
              "      <td>0</td>\n",
              "    </tr>\n",
              "    <tr>\n",
              "      <th>4</th>\n",
              "      <td>CC1=C([C@@H](n2c(nnn2)N1)c3cc(ccc3OCc4ccc(cc4)...</td>\n",
              "      <td>C40978963</td>\n",
              "      <td><img data-content=\"rdkit/molecule\" src=\"data:image/png;base64,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\" alt=\"Mol\"/></td>\n",
              "      <td>0</td>\n",
              "    </tr>\n",
              "    <tr>\n",
              "      <th>...</th>\n",
              "      <td>...</td>\n",
              "      <td>...</td>\n",
              "      <td>...</td>\n",
              "      <td>...</td>\n",
              "    </tr>\n",
              "    <tr>\n",
              "      <th>31690</th>\n",
              "      <td>CNS(=O)(=O)c1ccc(c(c1)C(=O)OCc2cc3c(cc2Br)OCCO3)F</td>\n",
              "      <td>C45616343</td>\n",
              "      <td><img data-content=\"rdkit/molecule\" src=\"data:image/png;base64,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\" alt=\"Mol\"/></td>\n",
              "      <td>0</td>\n",
              "    </tr>\n",
              "    <tr>\n",
              "      <th>32697</th>\n",
              "      <td>COc1ccccc1[C@H]2CC3=C([C@H](Nc4ccccc4N3)c5ccc(...</td>\n",
              "      <td>C21260254</td>\n",
              "      <td><img data-content=\"rdkit/molecule\" src=\"data:image/png;base64,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\" alt=\"Mol\"/></td>\n",
              "      <td>0</td>\n",
              "    </tr>\n",
              "    <tr>\n",
              "      <th>33952</th>\n",
              "      <td>c1ccc2=[NH+]CC(=c2c1)CC(=O)N3CCC(CC3)[C@@H]4NN...</td>\n",
              "      <td>C64410555</td>\n",
              "      <td><img data-content=\"rdkit/molecule\" src=\"data:image/png;base64,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\" alt=\"Mol\"/></td>\n",
              "      <td>0</td>\n",
              "    </tr>\n",
              "    <tr>\n",
              "      <th>35301</th>\n",
              "      <td>Cc1cccc(c1)OCc2nnc(n2CC=C)SCC(=O)c3c(n(c(=O)[n...</td>\n",
              "      <td>C11496206</td>\n",
              "      <td><img data-content=\"rdkit/molecule\" src=\"data:image/png;base64,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\" alt=\"Mol\"/></td>\n",
              "      <td>0</td>\n",
              "    </tr>\n",
              "    <tr>\n",
              "      <th>35614</th>\n",
              "      <td>c1ccc2c(c1)c(c[nH]2)Cc3nc(no3)[C@@H]4CC(=O)N(C...</td>\n",
              "      <td>C44422607</td>\n",
              "      <td><img data-content=\"rdkit/molecule\" src=\"data:image/png;base64,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\" alt=\"Mol\"/></td>\n",
              "      <td>0</td>\n",
              "    </tr>\n",
              "  </tbody>\n",
              "</table>\n",
              "<p>915 rows × 4 columns</p>\n",
              "</div>"
            ],
            "text/plain": [
              "                                                  smiles  ... label\n",
              "0      C[C@@H]1C[C@@]2(CC(C1)(C)C)C(=O)N(C(=O)N2)CC(=...  ...     0\n",
              "1          Cc1ccc2c(c1)CCCN2C(=O)C(=O)NC3CCC(CC3)C(=O)NC  ...     0\n",
              "2             Cc1ccccc1S(=O)(=O)N[C@@H]2Cc3cc(ccc3OC2)Br  ...     0\n",
              "3      CC(C)C(=O)Nc1ccc2c(c1)[C@@H]3C=CC[C@H]3[C@@H](...  ...     0\n",
              "4      CC1=C([C@@H](n2c(nnn2)N1)c3cc(ccc3OCc4ccc(cc4)...  ...     0\n",
              "...                                                  ...  ...   ...\n",
              "31690  CNS(=O)(=O)c1ccc(c(c1)C(=O)OCc2cc3c(cc2Br)OCCO3)F  ...     0\n",
              "32697  COc1ccccc1[C@H]2CC3=C([C@H](Nc4ccccc4N3)c5ccc(...  ...     0\n",
              "33952  c1ccc2=[NH+]CC(=c2c1)CC(=O)N3CCC(CC3)[C@@H]4NN...  ...     0\n",
              "35301  Cc1cccc(c1)OCc2nnc(n2CC=C)SCC(=O)c3c(n(c(=O)[n...  ...     0\n",
              "35614  c1ccc2c(c1)c(c[nH]2)Cc3nc(no3)[C@@H]4CC(=O)N(C...  ...     0\n",
              "\n",
              "[915 rows x 4 columns]"
            ]
          },
          "metadata": {
            "tags": []
          },
          "execution_count": 24
        }
      ]
    },
    {
      "cell_type": "code",
      "metadata": {
        "id": "maxqdN358ypT",
        "colab_type": "code",
        "colab": {
          "base_uri": "https://localhost:8080/",
          "height": 35
        },
        "outputId": "8ad758aa-c479-4f98-b89d-39cb5a246b07"
      },
      "source": [
        "df_active.columns"
      ],
      "execution_count": 25,
      "outputs": [
        {
          "output_type": "execute_result",
          "data": {
            "text/plain": [
              "Index(['smiles', 'ID', 'ROMol', 'label'], dtype='object')"
            ]
          },
          "metadata": {
            "tags": []
          },
          "execution_count": 25
        }
      ]
    },
    {
      "cell_type": "code",
      "metadata": {
        "id": "dxdbH-kS_crg",
        "colab_type": "code",
        "colab": {}
      },
      "source": [
        "df_all = pd.concat([df_decoys.sample(frac=1).reset_index(drop=True).drop_duplicates('Kmeans_id')[['smiles','ID','ROMol','label']],df_active])"
      ],
      "execution_count": 0,
      "outputs": []
    },
    {
      "cell_type": "code",
      "metadata": {
        "id": "_30BirDHAcio",
        "colab_type": "code",
        "colab": {
          "base_uri": "https://localhost:8080/",
          "height": 283
        },
        "outputId": "0bc740ff-a910-4ad4-cab3-4d555e003933"
      },
      "source": [
        "df_all['label'].plot(kind='hist')"
      ],
      "execution_count": 27,
      "outputs": [
        {
          "output_type": "execute_result",
          "data": {
            "text/plain": [
              "<matplotlib.axes._subplots.AxesSubplot at 0x7f30bb7ee6a0>"
            ]
          },
          "metadata": {
            "tags": []
          },
          "execution_count": 27
        },
        {
          "output_type": "display_data",
          "data": {
            "image/png": "[encoded data removed]",
            "text/plain": [
              "<Figure size 432x288 with 1 Axes>"
            ]
          },
          "metadata": {
            "tags": []
          }
        }
      ]
    },
    {
      "cell_type": "code",
      "metadata": {
        "id": "Ywr3-ud1Alw4",
        "colab_type": "code",
        "colab": {}
      },
      "source": [
        "X, y = molsfeaturizer(list(df_all['ROMol'])), np.array(list(df_all.label))"
      ],
      "execution_count": 0,
      "outputs": []
    },
    {
      "cell_type": "code",
      "metadata": {
        "id": "Ipy_epAQCaWZ",
        "colab_type": "code",
        "colab": {
          "base_uri": "https://localhost:8080/",
          "height": 35
        },
        "outputId": "e88d646e-ef91-42dc-f7b6-80f5387a9577"
      },
      "source": [
        "X.shape"
      ],
      "execution_count": 29,
      "outputs": [
        {
          "output_type": "execute_result",
          "data": {
            "text/plain": [
              "(1830, 2048)"
            ]
          },
          "metadata": {
            "tags": []
          },
          "execution_count": 29
        }
      ]
    },
    {
      "cell_type": "code",
      "metadata": {
        "id": "2pkzgLpNCbdq",
        "colab_type": "code",
        "colab": {
          "base_uri": "https://localhost:8080/",
          "height": 35
        },
        "outputId": "6737251c-bb28-404e-d4ad-48d0bb5cea3d"
      },
      "source": [
        "y.shape"
      ],
      "execution_count": 30,
      "outputs": [
        {
          "output_type": "execute_result",
          "data": {
            "text/plain": [
              "(1830,)"
            ]
          },
          "metadata": {
            "tags": []
          },
          "execution_count": 30
        }
      ]
    },
    {
      "cell_type": "code",
      "metadata": {
        "id": "1TNeXhOiCcFH",
        "colab_type": "code",
        "colab": {}
      },
      "source": [
        "from sklearn.model_selection import train_test_split"
      ],
      "execution_count": 0,
      "outputs": []
    },
    {
      "cell_type": "code",
      "metadata": {
        "id": "D4b-CK1hDXUi",
        "colab_type": "code",
        "colab": {}
      },
      "source": [
        "X_train, X_test, y_train, y_test = train_test_split(X, y, test_size=0.33, random_state=42)"
      ],
      "execution_count": 0,
      "outputs": []
    },
    {
      "cell_type": "code",
      "metadata": {
        "id": "Gs2fQOwYDYdD",
        "colab_type": "code",
        "colab": {}
      },
      "source": [
        "from sklearn.preprocessing import StandardScaler\n",
        "from sklearn.datasets import make_moons, make_circles, make_classification\n",
        "from sklearn.neural_network import MLPClassifier\n",
        "from sklearn.neighbors import KNeighborsClassifier\n",
        "from sklearn.svm import SVC\n",
        "from sklearn.gaussian_process import GaussianProcessClassifier\n",
        "from sklearn.gaussian_process.kernels import RBF\n",
        "from sklearn.tree import DecisionTreeClassifier\n",
        "from sklearn.ensemble import RandomForestClassifier, AdaBoostClassifier\n",
        "from sklearn.naive_bayes import GaussianNB\n",
        "from sklearn.discriminant_analysis import QuadraticDiscriminantAnalysis\n",
        "\n",
        "from sklearn import metrics\n",
        "from sklearn.metrics import f1_score "
      ],
      "execution_count": 0,
      "outputs": []
    },
    {
      "cell_type": "code",
      "metadata": {
        "id": "6AKbQBf2DwNc",
        "colab_type": "code",
        "colab": {}
      },
      "source": [
        "datasets =[(X,y)]\n",
        "classifiers = [\n",
        "    KNeighborsClassifier(10),\n",
        "    SVC(kernel=\"linear\", C=0.025),\n",
        "    SVC(gamma=2, C=1),\n",
        "    GaussianProcessClassifier(1.0 * RBF(1.0)),\n",
        "    DecisionTreeClassifier(max_depth=5),\n",
        "    RandomForestClassifier(max_depth=5, n_estimators=10, max_features=1),\n",
        "    MLPClassifier(alpha=1, max_iter=1000),\n",
        "    AdaBoostClassifier(),\n",
        "    GaussianNB(),\n",
        "    QuadraticDiscriminantAnalysis()]"
      ],
      "execution_count": 0,
      "outputs": []
    },
    {
      "cell_type": "code",
      "metadata": {
        "id": "GHtHWbWcECJM",
        "colab_type": "code",
        "colab": {
          "base_uri": "https://localhost:8080/",
          "height": 107
        },
        "outputId": "272f750f-018a-44b7-d927-6adab64d7a76"
      },
      "source": [
        "results = {}\n",
        "for i in range(len(classifiers)):\n",
        "  classifiers[i].fit(X_train, y_train)\n",
        "  y_pred = classifiers[i].predict(X_test)\n",
        "  results[i] = [y_pred,metrics.classification_report(y_test, y_pred),metrics.roc_auc_score(y_test,y_pred)]\n",
        "#  print(classifiers[i])\n",
        "#  print(metrics.classification_report(y_test, y_pred))"
      ],
      "execution_count": 44,
      "outputs": [
        {
          "output_type": "stream",
          "text": [
            "/usr/local/lib/python3.6/dist-packages/sklearn/discriminant_analysis.py:691: UserWarning: Variables are collinear\n",
            "  warnings.warn(\"Variables are collinear\")\n",
            "/usr/local/lib/python3.6/dist-packages/sklearn/metrics/_classification.py:1272: UndefinedMetricWarning: Precision and F-score are ill-defined and being set to 0.0 in labels with no predicted samples. Use `zero_division` parameter to control this behavior.\n",
            "  _warn_prf(average, modifier, msg_start, len(result))\n"
          ],
          "name": "stderr"
        }
      ]
    },
    {
      "cell_type": "markdown",
      "metadata": {
        "id": "9fm18GBIKJWM",
        "colab_type": "text"
      },
      "source": [
        "### Doing Manifold Learning with Sklearn"
      ]
    },
    {
      "cell_type": "code",
      "metadata": {
        "id": "0ZcoaJ33XBzo",
        "colab_type": "code",
        "colab": {}
      },
      "source": [
        "res_df = pd.DataFrame(results).T"
      ],
      "execution_count": 0,
      "outputs": []
    },
    {
      "cell_type": "code",
      "metadata": {
        "id": "has-JLBxXxPy",
        "colab_type": "code",
        "colab": {}
      },
      "source": [
        "res_df.columns = ['Predictions','Report','AUCscore']"
      ],
      "execution_count": 0,
      "outputs": []
    },
    {
      "cell_type": "code",
      "metadata": {
        "id": "eWOVzs9MYLpC",
        "colab_type": "code",
        "colab": {}
      },
      "source": [
        "res_df = res_df.sort_values('AUCscore')"
      ],
      "execution_count": 0,
      "outputs": []
    },
    {
      "cell_type": "code",
      "metadata": {
        "id": "SxbOOodPYP6s",
        "colab_type": "code",
        "colab": {
          "base_uri": "https://localhost:8080/",
          "height": 202
        },
        "outputId": "64abe582-c4c8-498a-c27b-a1bbb5650933"
      },
      "source": [
        "res_df.tail(5)"
      ],
      "execution_count": 54,
      "outputs": [
        {
          "output_type": "execute_result",
          "data": {
            "text/html": [
              "<div>\n",
              "<style scoped>\n",
              "    .dataframe tbody tr th:only-of-type {\n",
              "        vertical-align: middle;\n",
              "    }\n",
              "\n",
              "    .dataframe tbody tr th {\n",
              "        vertical-align: top;\n",
              "    }\n",
              "\n",
              "    .dataframe thead th {\n",
              "        text-align: right;\n",
              "    }\n",
              "</style>\n",
              "<table border=\"1\" class=\"dataframe\">\n",
              "  <thead>\n",
              "    <tr style=\"text-align: right;\">\n",
              "      <th></th>\n",
              "      <th>Predictions</th>\n",
              "      <th>Report</th>\n",
              "      <th>AUCscore</th>\n",
              "    </tr>\n",
              "  </thead>\n",
              "  <tbody>\n",
              "    <tr>\n",
              "      <th>0</th>\n",
              "      <td>[0, 1, 1, 1, 1, 0, 1, 0, 0, 0, 1, 0, 1, 1, 0, ...</td>\n",
              "      <td>precision    recall  f1-score   ...</td>\n",
              "      <td>0.963342</td>\n",
              "    </tr>\n",
              "    <tr>\n",
              "      <th>7</th>\n",
              "      <td>[0, 1, 1, 1, 1, 0, 1, 0, 0, 0, 1, 0, 1, 1, 0, ...</td>\n",
              "      <td>precision    recall  f1-score   ...</td>\n",
              "      <td>0.976852</td>\n",
              "    </tr>\n",
              "    <tr>\n",
              "      <th>6</th>\n",
              "      <td>[0, 1, 1, 1, 1, 0, 0, 0, 0, 0, 1, 0, 1, 1, 0, ...</td>\n",
              "      <td>precision    recall  f1-score   ...</td>\n",
              "      <td>0.986787</td>\n",
              "    </tr>\n",
              "    <tr>\n",
              "      <th>1</th>\n",
              "      <td>[0, 1, 1, 1, 1, 0, 0, 0, 0, 0, 1, 0, 1, 1, 0, ...</td>\n",
              "      <td>precision    recall  f1-score   ...</td>\n",
              "      <td>0.986819</td>\n",
              "    </tr>\n",
              "    <tr>\n",
              "      <th>3</th>\n",
              "      <td>[0, 1, 1, 1, 1, 0, 0, 0, 0, 0, 1, 0, 1, 1, 0, ...</td>\n",
              "      <td>precision    recall  f1-score   ...</td>\n",
              "      <td>0.990131</td>\n",
              "    </tr>\n",
              "  </tbody>\n",
              "</table>\n",
              "</div>"
            ],
            "text/plain": [
              "                                         Predictions  ...  AUCscore\n",
              "0  [0, 1, 1, 1, 1, 0, 1, 0, 0, 0, 1, 0, 1, 1, 0, ...  ...  0.963342\n",
              "7  [0, 1, 1, 1, 1, 0, 1, 0, 0, 0, 1, 0, 1, 1, 0, ...  ...  0.976852\n",
              "6  [0, 1, 1, 1, 1, 0, 0, 0, 0, 0, 1, 0, 1, 1, 0, ...  ...  0.986787\n",
              "1  [0, 1, 1, 1, 1, 0, 0, 0, 0, 0, 1, 0, 1, 1, 0, ...  ...  0.986819\n",
              "3  [0, 1, 1, 1, 1, 0, 0, 0, 0, 0, 1, 0, 1, 1, 0, ...  ...  0.990131\n",
              "\n",
              "[5 rows x 3 columns]"
            ]
          },
          "metadata": {
            "tags": []
          },
          "execution_count": 54
        }
      ]
    },
    {
      "cell_type": "code",
      "metadata": {
        "id": "kFNBooEaYQdb",
        "colab_type": "code",
        "colab": {
          "base_uri": "https://localhost:8080/",
          "height": 173
        },
        "outputId": "6cdfc71f-ef5f-40ae-e9f8-df67f42ad94a"
      },
      "source": [
        "print(res_df.loc[3]['Report'])"
      ],
      "execution_count": 57,
      "outputs": [
        {
          "output_type": "stream",
          "text": [
            "              precision    recall  f1-score   support\n",
            "\n",
            "           0       0.98      1.00      0.99       299\n",
            "           1       1.00      0.98      0.99       305\n",
            "\n",
            "    accuracy                           0.99       604\n",
            "   macro avg       0.99      0.99      0.99       604\n",
            "weighted avg       0.99      0.99      0.99       604\n",
            "\n"
          ],
          "name": "stdout"
        }
      ]
    },
    {
      "cell_type": "code",
      "metadata": {
        "id": "nM48fk9YYma1",
        "colab_type": "code",
        "colab": {
          "base_uri": "https://localhost:8080/",
          "height": 104
        },
        "outputId": "1dcc32f3-a2b1-4f85-ddd5-75087a099da4"
      },
      "source": [
        "classifiers[3]"
      ],
      "execution_count": 58,
      "outputs": [
        {
          "output_type": "execute_result",
          "data": {
            "text/plain": [
              "GaussianProcessClassifier(copy_X_train=True, kernel=1**2 * RBF(length_scale=1),\n",
              "                          max_iter_predict=100, multi_class='one_vs_rest',\n",
              "                          n_jobs=None, n_restarts_optimizer=0,\n",
              "                          optimizer='fmin_l_bfgs_b', random_state=None,\n",
              "                          warm_start=False)"
            ]
          },
          "metadata": {
            "tags": []
          },
          "execution_count": 58
        }
      ]
    },
    {
      "cell_type": "code",
      "metadata": {
        "id": "qlip-CysZMnT",
        "colab_type": "code",
        "colab": {
          "base_uri": "https://localhost:8080/",
          "height": 243
        },
        "outputId": "763f5c00-fca0-4f5c-bd59-482c4ec1a0a3"
      },
      "source": [
        "print(classifiers[1])\n",
        "print(res_df.loc[1]['Report'])"
      ],
      "execution_count": 61,
      "outputs": [
        {
          "output_type": "stream",
          "text": [
            "SVC(C=0.025, break_ties=False, cache_size=200, class_weight=None, coef0=0.0,\n",
            "    decision_function_shape='ovr', degree=3, gamma='scale', kernel='linear',\n",
            "    max_iter=-1, probability=False, random_state=None, shrinking=True,\n",
            "    tol=0.001, verbose=False)\n",
            "              precision    recall  f1-score   support\n",
            "\n",
            "           0       0.98      0.99      0.99       299\n",
            "           1       0.99      0.98      0.99       305\n",
            "\n",
            "    accuracy                           0.99       604\n",
            "   macro avg       0.99      0.99      0.99       604\n",
            "weighted avg       0.99      0.99      0.99       604\n",
            "\n"
          ],
          "name": "stdout"
        }
      ]
    },
    {
      "cell_type": "code",
      "metadata": {
        "id": "F7vLNJkZZSUT",
        "colab_type": "code",
        "colab": {
          "base_uri": "https://localhost:8080/",
          "height": 312
        },
        "outputId": "9bcc0d81-2031-44ef-bc00-9ad7c6a6f90c"
      },
      "source": [
        "print(classifiers[6])\n",
        "print(res_df.loc[6]['Report'])"
      ],
      "execution_count": 63,
      "outputs": [
        {
          "output_type": "stream",
          "text": [
            "MLPClassifier(activation='relu', alpha=1, batch_size='auto', beta_1=0.9,\n",
            "              beta_2=0.999, early_stopping=False, epsilon=1e-08,\n",
            "              hidden_layer_sizes=(100,), learning_rate='constant',\n",
            "              learning_rate_init=0.001, max_fun=15000, max_iter=1000,\n",
            "              momentum=0.9, n_iter_no_change=10, nesterovs_momentum=True,\n",
            "              power_t=0.5, random_state=None, shuffle=True, solver='adam',\n",
            "              tol=0.0001, validation_fraction=0.1, verbose=False,\n",
            "              warm_start=False)\n",
            "              precision    recall  f1-score   support\n",
            "\n",
            "           0       0.98      0.99      0.99       299\n",
            "           1       0.99      0.98      0.99       305\n",
            "\n",
            "    accuracy                           0.99       604\n",
            "   macro avg       0.99      0.99      0.99       604\n",
            "weighted avg       0.99      0.99      0.99       604\n",
            "\n"
          ],
          "name": "stdout"
        }
      ]
    },
    {
      "cell_type": "code",
      "metadata": {
        "id": "vmt6s9ADZnHp",
        "colab_type": "code",
        "colab": {
          "base_uri": "https://localhost:8080/",
          "height": 208
        },
        "outputId": "841e1a75-2c46-4863-d2b8-f17f456f56e0"
      },
      "source": [
        "print(classifiers[7])\n",
        "print(res_df.loc[7]['Report'])"
      ],
      "execution_count": 64,
      "outputs": [
        {
          "output_type": "stream",
          "text": [
            "AdaBoostClassifier(algorithm='SAMME.R', base_estimator=None, learning_rate=1.0,\n",
            "                   n_estimators=50, random_state=None)\n",
            "              precision    recall  f1-score   support\n",
            "\n",
            "           0       0.97      0.98      0.98       299\n",
            "           1       0.98      0.97      0.98       305\n",
            "\n",
            "    accuracy                           0.98       604\n",
            "   macro avg       0.98      0.98      0.98       604\n",
            "weighted avg       0.98      0.98      0.98       604\n",
            "\n"
          ],
          "name": "stdout"
        }
      ]
    },
    {
      "cell_type": "code",
      "metadata": {
        "id": "5dstHt4oZ0n3",
        "colab_type": "code",
        "colab": {
          "base_uri": "https://localhost:8080/",
          "height": 225
        },
        "outputId": "ee21caf8-b28a-48b7-ae18-e4d1c7d65cc1"
      },
      "source": [
        "print(classifiers[0])\n",
        "print(res_df.loc[0]['Report'])"
      ],
      "execution_count": 65,
      "outputs": [
        {
          "output_type": "stream",
          "text": [
            "KNeighborsClassifier(algorithm='auto', leaf_size=30, metric='minkowski',\n",
            "                     metric_params=None, n_jobs=None, n_neighbors=10, p=2,\n",
            "                     weights='uniform')\n",
            "              precision    recall  f1-score   support\n",
            "\n",
            "           0       0.99      0.94      0.96       299\n",
            "           1       0.94      0.99      0.96       305\n",
            "\n",
            "    accuracy                           0.96       604\n",
            "   macro avg       0.96      0.96      0.96       604\n",
            "weighted avg       0.96      0.96      0.96       604\n",
            "\n"
          ],
          "name": "stdout"
        }
      ]
    },
    {
      "cell_type": "code",
      "metadata": {
        "id": "Ps7h0-92aPwk",
        "colab_type": "code",
        "colab": {}
      },
      "source": [
        "all_decoys_fp = molsfeaturizer(df_decoys.ROMol)"
      ],
      "execution_count": 0,
      "outputs": []
    },
    {
      "cell_type": "code",
      "metadata": {
        "id": "jgKnE-9HbyfN",
        "colab_type": "code",
        "colab": {}
      },
      "source": [
        "res = [classifiers[i].predict(all_decoys_fp) for i in range(len(classifiers))]"
      ],
      "execution_count": 0,
      "outputs": []
    },
    {
      "cell_type": "code",
      "metadata": {
        "id": "4OPw0DLZdPoD",
        "colab_type": "code",
        "colab": {}
      },
      "source": [
        ""
      ],
      "execution_count": 0,
      "outputs": []
    }
  ]
}